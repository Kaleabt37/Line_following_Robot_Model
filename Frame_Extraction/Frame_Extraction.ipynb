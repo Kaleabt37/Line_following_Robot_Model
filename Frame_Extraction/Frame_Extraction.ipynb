{
 "cells": [
  {
   "cell_type": "code",
   "execution_count": 1,
   "id": "ac79dfd6-7f51-41de-a584-3f58346e97e0",
   "metadata": {},
   "outputs": [
    {
     "name": "stdout",
     "output_type": "stream",
     "text": [
      "Extracted and processed 202 frames to dataset/extracted_frames/\n",
      "Generated 100 inverted frames to dataset/inverted_frames/\n"
     ]
    }
   ],
   "source": [
    "import cv2\n",
    "import numpy as np\n",
    "import os\n",
    "\n",
    "# Set parameters\n",
    "video_path = \"video.mp4\"  # Replace with your video file\n",
    "output_folder = \"dataset/extracted_frames/\"  # Output folder for extracted frames\n",
    "inverted_folder = \"dataset/inverted_frames/\"  # Output folder for inverted frames\n",
    "\n",
    "# Create output folders if they don't exist\n",
    "os.makedirs(output_folder, exist_ok=True)\n",
    "os.makedirs(inverted_folder, exist_ok=True)\n",
    "\n",
    "# Read video\n",
    "cap = cv2.VideoCapture(video_path)\n",
    "if not cap.isOpened():\n",
    "    print(\"Error: Cannot open video file.\")\n",
    "    exit()\n",
    "\n",
    "frame_count = 0\n",
    "inverted_count = 0  # To track the number of inverted frames\n",
    "\n",
    "while cap.isOpened():\n",
    "    ret, frame = cap.read()\n",
    "    if not ret:\n",
    "        break\n",
    "\n",
    "    # Get the height and width of the frame\n",
    "    height, width = frame.shape[:2]\n",
    "\n",
    "    # Crop the upper 30% of the frame\n",
    "    crop_start = int(height * 0.3)  # Start cropping from 30% height\n",
    "    cropped_frame = frame[crop_start:, :]  # Retain only the bottom 70%\n",
    "\n",
    "    # Save the cropped frame\n",
    "    cropped_frame_path = os.path.join(output_folder, f\"frame_cropped_{frame_count:04d}.jpg\")\n",
    "    cv2.imwrite(cropped_frame_path, cropped_frame)\n",
    "\n",
    "    # Convert cropped frame to HSV\n",
    "    hsv = cv2.cvtColor(cropped_frame, cv2.COLOR_BGR2HSV)\n",
    "\n",
    "    # Define a flexible yellow range\n",
    "    lower_yellow = np.array([20, 20, 20])  # Adjust these values\n",
    "    upper_yellow = np.array([40, 255, 255])\n",
    "\n",
    "    # Create a mask for the yellow region\n",
    "    mask = cv2.inRange(hsv, lower_yellow, upper_yellow)\n",
    "\n",
    "    # Apply the mask to the cropped frame\n",
    "    masked_frame = cv2.bitwise_and(cropped_frame, cropped_frame, mask=mask)\n",
    "\n",
    "    # Save the masked frame\n",
    "    masked_frame_path = os.path.join(output_folder, f\"frame_masked_{frame_count:04d}.jpg\")\n",
    "    cv2.imwrite(masked_frame_path, masked_frame)\n",
    "\n",
    "    # Save inverted frame based on cropped frame\n",
    "    if inverted_count < frame_count // 2:  # Ensure inverted frames are not more than half\n",
    "        inverted_frame = cv2.flip(cropped_frame, 1)  # Flip horizontally\n",
    "        inverted_frame_path = os.path.join(inverted_folder, f\"frame_inverted_{inverted_count:04d}.jpg\")\n",
    "        cv2.imwrite(inverted_frame_path, inverted_frame)\n",
    "        inverted_count += 1\n",
    "\n",
    "    frame_count += 1\n",
    "\n",
    "cap.release()\n",
    "print(f\"Extracted and processed {frame_count} frames to {output_folder}\")\n",
    "print(f\"Generated {inverted_count} inverted frames to {inverted_folder}\")\n"
   ]
  },
  {
   "cell_type": "code",
   "execution_count": null,
   "id": "8c906431-1da6-4ace-a3c1-b06fef3f33bc",
   "metadata": {},
   "outputs": [],
   "source": []
  }
 ],
 "metadata": {
  "kernelspec": {
   "display_name": "Python (tensorflow_env)",
   "language": "python",
   "name": "tensorflow_env"
  },
  "language_info": {
   "codemirror_mode": {
    "name": "ipython",
    "version": 3
   },
   "file_extension": ".py",
   "mimetype": "text/x-python",
   "name": "python",
   "nbconvert_exporter": "python",
   "pygments_lexer": "ipython3",
   "version": "3.9.21"
  }
 },
 "nbformat": 4,
 "nbformat_minor": 5
}
